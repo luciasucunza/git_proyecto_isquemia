{
 "cells": [
  {
   "cell_type": "markdown",
   "metadata": {},
   "source": [
    "Documentacion de TimeSeries"
   ]
  },
  {
   "cell_type": "code",
   "execution_count": 1,
   "metadata": {},
   "outputs": [],
   "source": [
    "import numpy as np\n",
    "import matplotlib.pyplot as plt\n",
    "import pandas as pd"
   ]
  },
  {
   "cell_type": "markdown",
   "metadata": {},
   "source": [
    "Esta función es para atender los clicks cuando se grafiaca algo\n",
    "\n",
    "MEJORAS: \n",
    "   \n",
    "   1)Si se tocan dos puntos agarra el primero arbitrariamente,estaría bueno un mini menu (Altium) para elegir cual\n",
    "   \n",
    "   2)La zona donde los clics son vistos como en la señal es un circulo de radio d al rededor del punto de la señal, el posible problema es que la escala del eje Y que no es siempre la misma haga que este valor no tenga mucho sentido, por lo que debería variar segun el valor que toma\n",
    "             "
   ]
  },
  {
   "cell_type": "code",
   "execution_count": null,
   "metadata": {},
   "outputs": [],
   "source": [
    "def picker_handler( line, mouseevent):\n",
    "\n",
    "    if mouseevent.xdata is None:        \n",
    "        return False, dict()\n",
    "    \n",
    "    xdata = line.get_xdata()           \n",
    "    ydata = line.get_ydata()    \n",
    "    maxd = 0.3\n",
    "    d = abs(xdata - mouseevent.xdata)\n",
    "\n",
    "    ind, = np.nonzero(d <= maxd)\n",
    "    if len(ind):\n",
    "        pickx = xdata[ind[0]]\n",
    "        picky = ydata[ind[0]]\n",
    "        props = dict(ind=ind, pickx=pickx, picky=picky)\n",
    "        return True, props\n",
    "    else:\n",
    "        return False, dict()"
   ]
  },
  {
   "cell_type": "markdown",
   "metadata": {},
   "source": [
    "A partir de acá defino la clase\n",
    "Dentro del dataFrame además de la serie de datos y los tiempos también hay datos para hacer mejores las gráficas y debería haber tambien una columna de vectores donde se guarden los indices de las filas \"padre\"\n",
    "\n",
    "MEJORAS:\n",
    "\n",
    "1) Más funciones estadisticas y de filtrado\n",
    "\n",
    "2) Hacer bien el indexado\n",
    "\n",
    "3) Chequear mejor el tema de que no me pasen cualquier cosa en el constructor"
   ]
  },
  {
   "cell_type": "code",
   "execution_count": null,
   "metadata": {},
   "outputs": [],
   "source": [
    "class timeSerie:\n",
    "\n",
    "    def __init__(self,  typeParam   = None, \n",
    "                        origin      = None,           \n",
    "                        param       = None,      t_param = None, \n",
    "                        param_aux1  = None,      t_param_aux1 = None, \n",
    "                        param_aux2  = None,      t_param_aux2 = None,\n",
    "                        abstraLevel = 1,\n",
    "                        origIndex   = None\n",
    "                 ):\n",
    "        \n",
    "        self.type       = typeParam\n",
    "        self.__origin__ = origin\n",
    "        self.__level__  = abstraLevel \n",
    "        \n",
    "        if typeParam == 'Angle':\n",
    "            self.units    = \"º\"\n",
    "        elif typeParam == 'IntervalRR':\n",
    "            self.units    = \"s\"            \n",
    "        elif typeParam == 'SlopeMax':\n",
    "            self.units    = \"mm/mm\"        \n",
    "        \n",
    "        if type(param) == pd.core.frame.DataFrame:\n",
    "            self.dataF  = param\n",
    "        else:\n",
    "            self.dataF  = pd.DataFrame({   'Time'      : t_param,\n",
    "                                             typeParam  : param\n",
    "                                             })   \n",
    "            if typeParam == 'Angle':\n",
    "                self.dataF['SlopeMax']      = param_aux1\n",
    "                self.dataF['TimeSlopeMax']  = t_param_aux1   \n",
    "                self.dataF['SlopeMin']      = param_aux2\n",
    "                self.dataF['TimeSlopeMin']  = t_param_aux2   \n",
    "                \n",
    "            elif typeParam == 'SlopeMax':\n",
    "                self.dataF['TimeSlopeMax']  = t_param_aux1  "
   ]
  },
  {
   "cell_type": "markdown",
   "metadata": {},
   "source": [
    "Grafica la señal mediante la cual se pueden inspeccionar los elementos\n",
    "\n",
    "MEJORAS:\n",
    "\n",
    "1) Màs lindo\n",
    "\n",
    "2) Botones"
   ]
  },
  {
   "cell_type": "code",
   "execution_count": null,
   "metadata": {},
   "outputs": [],
   "source": [
    "    def plotSerie(self):\n",
    "        fig = plt.figure( 'TimeSerie: ' + self.type + ' plot' + ' (' + str(self.__level__) + ')')\n",
    "        plt.cla()\n",
    "        plt.plot( self.dataF['Time'],  self.dataF[ self.type ], 'go', picker=picker_handler)\n",
    "        fig.canvas.mpl_connect('pick_event',  self.__plotInspection__)\n",
    "        plt.xlabel('time (s)')   \n",
    "        plt.ylabel(self.units)\n",
    "        plt.grid()"
   ]
  },
  {
   "cell_type": "markdown",
   "metadata": {},
   "source": [
    "Plotea la señal vs la señal que le dio origen, desde aca no se puede inspeccionar"
   ]
  },
  {
   "cell_type": "code",
   "execution_count": null,
   "metadata": {},
   "outputs": [],
   "source": [
    " def plotSerieVsOrig( self ): \n",
    "        if isinstance(self.__origin__, np.ndarray):\n",
    "            fig = plt.figure( 'TimeSerie: ' + self.type + ' vs Origin')\n",
    "            plt.cla()\n",
    "            \n",
    "            ax1 = plt.subplot(211)\n",
    "            plt.plot( self.__origin__[:,0],  self.__origin__[:,1])\n",
    "            plt.setp(ax1.get_xticklabels(), fontsize=6)\n",
    "            plt.grid()\n",
    "            \n",
    "            ax2 = plt.subplot(212, sharex=ax1)\n",
    "            plt.plot( self.dataF['Time'],  self.dataF[ self.type ], 'go', picker=picker_handler)\n",
    "            plt.setp(ax2.get_xticklabels(), fontsize=6)\n",
    "            fig.canvas.mpl_connect('pick_event',  self.__plotInspection__)\n",
    "            \n",
    "            plt.grid()\n",
    "            \n",
    "        elif isinstance(self.__origin__, timeSerie): \n",
    "            fig = plt.figure( 'TimeSerie: ' + self.type + ' vs Origin')\n",
    "            plt.cla()\n",
    "            \n",
    "            ax1 = plt.subplot(211)\n",
    "            plt.plot( self.__origin__.dataF['Time'],  self.__origin__.dataF[self.__origin__.type] )\n",
    "            plt.setp(ax1.get_xticklabels(), fontsize=6)\n",
    "            plt.grid()\n",
    "            \n",
    "            ax2 = plt.subplot(212, sharex=ax1)\n",
    "            plt.plot( self.dataF['Time'],  self.dataF[ self.type ], 'go', picker=picker_handler)\n",
    "            plt.setp(ax2.get_xticklabels(), fontsize=6)\n",
    "            fig.canvas.mpl_connect('pick_event',  self.__plotInspection__)\n",
    "            plt.grid()\n",
    "                      \n",
    "        else:\n",
    "            print('Origen no conocido')\n",
    "            self.plotSerie()\n",
    "     "
   ]
  },
  {
   "cell_type": "markdown",
   "metadata": {},
   "source": [
    "Función que se llama cuando se realiza un clic acertado, dependiendo de que instancia de abstracción es que ploteo realiza"
   ]
  },
  {
   "cell_type": "code",
   "execution_count": null,
   "metadata": {},
   "outputs": [],
   "source": [
    "    def __plotInspection__(self,event):\n",
    "\n",
    "        if self.__level__ == 1:\n",
    "            if   self.type == 'IntervalRR':  \n",
    "                 self.__plotItemRR__( self.__origin__, event.pickx, event.picky )\n",
    "                \n",
    "            elif self.type == 'SlopeMax':\n",
    "                 self.__plotItemSlope__( self.__origin__, event.pickx, event.picky )\n",
    "                \n",
    "            elif self.type == 'Angle':\n",
    "                 self.__plotItemAngle__( self.__origin__, event.pickx, event.picky )\n",
    "        else:\n",
    "            self.__origin__.plotSerie()"
   ]
  },
  {
   "cell_type": "markdown",
   "metadata": {},
   "source": [
    "Funciones para dibujar un complejo QRS"
   ]
  },
  {
   "cell_type": "code",
   "execution_count": null,
   "metadata": {},
   "outputs": [],
   "source": [
    "ef __plotItemRR__ (self,originECG, dt, dy):\n",
    "        \"\"\"\n",
    "        Esto debería ver que es mejor si poner el funciones aca adentro o por fuera\n",
    "        \"\"\"\n",
    "        referencia  = min( originECG[ originECG[:,0] == dt, 1 ], originECG[ originECG[:,0] == dt-dy, 1 ] )[0]                            \n",
    "        puntos      = np.array([ [dt,referencia] , [dt-dy,referencia] ])           \n",
    "                \n",
    "        #ZoomRegion\n",
    "        timeZR = originECG[ np.bitwise_and( originECG[:,0] >= dt-1.2,  originECG[:,0] <= dt+0.6), 0 ] \n",
    "        ecgZR  = originECG[ np.bitwise_and( originECG[:,0] >= dt-1.2,  originECG[:,0] <= dt+0.6), 1 ]\n",
    "        \n",
    "        #Ploteo\n",
    "        plt.figure('Inspection: Intervalo RR')\n",
    "        plt.cla()\n",
    "        plt.plot( timeZR,       ecgZR                                                                   )\n",
    "        plt.plot( puntos[:,0],  puntos[:,1],            label=('Ocurrencia: '+str(np.round(dt,4))+'s')  )\n",
    "        plt.plot( puntos[:,0],  puntos[:,1],    'ro',   label=('Ocurrencia: '+str(np.round(dt,4))+'s')  )\n",
    "        plt.xlabel('time (s)')  \n",
    "        plt.ylabel('amplitude (mV)')      \n",
    "        plt.grid()\n",
    "        plt.legend()\n",
    "        plt.show()\n",
    "        \n",
    "        \n",
    "    def __plotItemSlope__ (self, originECG, dt, dy ):\n",
    "\n",
    "        #Punto de pendiente maxima \n",
    "        punto      = ( dt, originECG[ originECG[:,0] == dt, 1 ] )                                                            \n",
    "            \n",
    "        #Recta con valor de pendiente maxima que pasa por el punto \n",
    "        len_rec     = 0.01\n",
    "        t_rectas    = np.array( [ dt - len_rec, dt + len_rec ] )        \n",
    "        rectas      = np.array( [ punto[1] - dy/0.4*len_rec, punto[1] + dy/0.4*len_rec] )\n",
    "        \n",
    "        #ZoomRegion\n",
    "        timeZR = originECG[ np.bitwise_and( originECG[:,0] >= dt-0.4,  originECG[:,0] <= dt+0.6), 0 ] #zoom_region/self.fs\n",
    "        ecgZR  = originECG[ np.bitwise_and( originECG[:,0] >= dt-0.4,  originECG[:,0] <= dt+0.6), 1 ] #self.__origin__.signal[zoom_region] \n",
    "        \n",
    "        #Ploteo\n",
    "        plt.figure('Inspection: Pendiente Máxima')\n",
    "        plt.cla()\n",
    "        plt.plot( timeZR,       ecgZR                                                                   )\n",
    "        plt.plot( t_rectas,     rectas,                 label=('Pendiente: ' +str(np.round(dy,4))    )  )\n",
    "        plt.plot( punto[0],     punto[1],    'ro',      label=('Ocurrencia: '+str(np.round(dt,4))+'s')  )\n",
    "        plt.xlabel('time (s)')   \n",
    "        plt.ylabel('amplitude (mV)')           \n",
    "        plt.grid()\n",
    "        plt.legend()\n",
    "        plt.show()  \n",
    "        \n",
    "        \n",
    "    def __plotItemAngle__ (self, originECG, dt, dy ):\n",
    "    \n",
    "#        i = DE ALGUNA FORMA ENCONTRAR EL i CON DT QUE NO SE REPITE NUNCA, ver alguna forma mejor\n",
    "#        Ojo que filas no es lo mismo que indice\n",
    "        i = self.dataF[self.dataF['Time']==dt].index\n",
    "        i = i[0]\n",
    "        aux = self.dataF.loc[i]\n",
    "        dt1 = aux[:]['TimeSlopeMax']\n",
    "        dt2 = aux[:]['TimeSlopeMin']\n",
    "        m1  = aux[:]['SlopeMax']\n",
    "        m2  = aux[:]['SlopeMin'] \n",
    "\n",
    "\n",
    "        #Puntos de pendiente maxima \n",
    "        punto1      = ( dt1, originECG[ originECG[:,0] == dt1, 1 ] )    \n",
    "        punto2      = ( dt2, originECG[ originECG[:,0] == dt1, 1 ] )  \n",
    "        \n",
    "        #Recta con valor de pendiente maxima que pasa por el punto \n",
    "        len_rec     = 0.005\n",
    "        \n",
    "        t_rectas1    = np.array( [ dt1 - len_rec,                           dt  + len_rec                       ] )        \n",
    "        rectas1      = np.array( [ punto1[1] - m1/0.4*len_rec,              punto1[1] + m1/0.4*(dt-dt1+len_rec) ] )\n",
    "        t_rectas2    = np.array( [ dt  - len_rec,                           dt2 + len_rec                       ] )        \n",
    "        rectas2      = np.array( [ punto2[1] - m2/0.4*(dt2-dt+len_rec),     punto2[1] + m2/0.4*len_rec          ] )\n",
    "      \n",
    "        #ZoomRegion\n",
    "        timeZR = originECG[ np.bitwise_and( originECG[:,0] >= dt1-0.4,  originECG[:,0] <= dt2+0.4), 0 ] \n",
    "        ecgZR  = originECG[ np.bitwise_and( originECG[:,0] >= dt1-0.4,  originECG[:,0] <= dt2+0.4), 1 ]\n",
    "        \n",
    "        #Ploteo\n",
    "        plt.figure('Inspection: Pendiente Máxima y Minima que forman el angulo')\n",
    "        plt.cla()\n",
    "        plt.plot( timeZR,       ecgZR                                                                   )\n",
    "        plt.plot( t_rectas1,         rectas1,                 label=('Pendiente Positiva: '   +str(np.round(m1,4))+'('+str(np.round(dt1,4))+'s)')   )\n",
    "        plt.plot( t_rectas2,         rectas2,                 label=('Pendiente Negativa: '   +str(np.round(m2,4))+'('+str(np.round(dt2,4))+'s)')   )\n",
    "        plt.plot( punto1[0],        punto1[1],    'ro',       label=('Ocurrencia: '           +str(np.round(dt,4))+'s'  )   )\n",
    "        plt.plot( punto2[0],        punto2[1],    'ro',       label=('Angulo: '               +str(np.round(dy,4))+'º')   )\n",
    "        plt.xlabel('time (s)')      \n",
    "        plt.ylabel('amplitude (mV)')  \n",
    "        plt.grid()\n",
    "        plt.legend()\n",
    "        plt.show()              "
   ]
  },
  {
   "cell_type": "markdown",
   "metadata": {},
   "source": [
    "Funciones para recortar en el eje X o Y la TimeSerie, no genera otra instancia sino que recorta la actual"
   ]
  },
  {
   "cell_type": "code",
   "execution_count": null,
   "metadata": {},
   "outputs": [],
   "source": [
    "    def recorteX(self, lInf, lSup):\n",
    "        if lInf == lSup:\n",
    "            print('Los limites deben ser diferentes')\n",
    "        else:\n",
    "            self.dataF = self.dataF.loc[ (self.dataF['Time']>lInf) & (self.dataF['Time']<lSup) ]\n",
    "        \n",
    "    def recorteY(self, lInf, lSup):\n",
    "        if lInf == lSup:\n",
    "            print('Los limites deben ser diferentes')\n",
    "        else:\n",
    "            self.dataF = self.dataF.loc[ (self.dataF[self.type]>lInf) & (self.dataF[self.type]<lSup) ]"
   ]
  }
 ],
 "metadata": {
  "kernelspec": {
   "display_name": "Python 3",
   "language": "python",
   "name": "python3"
  },
  "language_info": {
   "codemirror_mode": {
    "name": "ipython",
    "version": 3
   },
   "file_extension": ".py",
   "mimetype": "text/x-python",
   "name": "python",
   "nbconvert_exporter": "python",
   "pygments_lexer": "ipython3",
   "version": "3.6.8"
  }
 },
 "nbformat": 4,
 "nbformat_minor": 2
}
