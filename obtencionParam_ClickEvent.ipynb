{
 "cells": [
  {
   "cell_type": "markdown",
   "metadata": {},
   "source": [
    "La idea va a ser que todos los parametros tengan un valor para cada latido, entonces el tiempo de ocurrencia va a estar en función del QRS.\n",
    "\n",
    "Voy a pensar el ECG como un bloquecitos que cada uno contiene UN complejo QRS, por lo tanto no me manejo siempre con tiempos, también me voy a manejar con Nº de latido (nLat). Esto quiere decir que cada valor de parámetro va a estar asociado a un numero entero de latido \"nLat\" y a un offset de ocurrencia \"offsOcurr\" el cual expresa el tiempo de ocurrencia del parametro en función del tiempo de ocurrencia del QRS. (tambien puede guardarse el tiempo de ocurrencia directamente en lugar del offsOcurr)\n",
    "\n",
    "Habría que analizar es si realmente tiene sentido guardar este tiempo de ocurrencia del parametro, ya que creo que es un dato que  no se utiliza en el analisis de datos por parte del usuario, pero me es muy conveniente tenerlo para hacer las gráficas ilustrativas cuando se hace una inspección de elementos así que por el momento lo dejo.\n",
    "\n",
    "Cuando quiera inspeccionar un objeto lo voy a hacer partiendo de de una gráfica del TimeSerie de parámetros, por lo tanto con lo que  me devuelva el \"ClickEvent\" tengo que buscar en el DF cual es el \"indice\" que le corresponde y de ahí poder llamar a la función de ploteo ilustratvio del parametro especifico del latido \"nLat\" \n",
    "\n",
    "En el caso de que quiera a partir del ECG graficar un solo latido ahí es distinto porque entre latido y latido tengo muetras, por lo tanto puedo hacer distintas cosas:\n",
    "    Superponer la grafica de puntos del QRS y que solo me genere un evento cuando toco cerca de esa y agrandar la distancia que asocia al punto\n",
    "    Que me haga como un zoom de esa región en otra pantalla\n",
    "    CAPAZ NO TIENE SENTIDO pensar en esto porque en realidad se usa la inspección cuando estoy analizando una grafica de paramtro no del ECG\n",
    "    \n"
   ]
  },
  {
   "cell_type": "markdown",
   "metadata": {},
   "source": []
  }
 ],
 "metadata": {
  "kernelspec": {
   "display_name": "Python 3 (Spyder)",
   "language": "python3",
   "name": "python3"
  },
  "language_info": {
   "codemirror_mode": {
    "name": "ipython",
    "version": 3
   },
   "file_extension": ".py",
   "mimetype": "text/x-python",
   "name": "python",
   "nbconvert_exporter": "python",
   "pygments_lexer": "ipython3",
   "version": "3.6.8"
  }
 },
 "nbformat": 4,
 "nbformat_minor": 2
}
